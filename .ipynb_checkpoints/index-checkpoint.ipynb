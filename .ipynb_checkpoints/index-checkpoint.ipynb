{
 "cells": [
  {
   "cell_type": "markdown",
   "metadata": {
    "index": 0
   },
   "source": [
    "# Phase 1 – Mini Project"
   ]
  },
  {
   "cell_type": "markdown",
   "metadata": {
    "index": 1
   },
   "source": [
    "In this lab, we will create a small program that will use the following skills learned in phase 1:\n",
    "- Manipulating string data\n",
    "- Navigating a json/dictionary data structure\n",
    "- Sending a request to an api and collecting the response\n",
    "- Scraping data from a webpage\n",
    "- Data Vizualization\n",
    "\n",
    "## Your Task\n",
    "\n",
    "In this notebook, you will write nine functions. When used together, these functions produce a simple python application that receives a date and outputs a report detailing the following:\n",
    "- Whether or not the day was a public holiday\n",
    "- What historical events occured on that day\n",
    "- The top 5 stock price increases and decreases for that day. \n",
    "\n",
    "\n",
    "\n",
    "### Specifically this program will...\n",
    "\n",
    "1. Receive a date formatted as `month/day/year`\n",
    "1. Parse the date to create individual variables for \n",
    "    - Month (string)\n",
    "    - Day (string)\n",
    "    - Year (string)\n",
    "    - Month Name (string)\n",
    "1. Query the public holidays api to check if the date was a holiday.\n",
    "1. Connect to the `www.onthisday.com` website and scrape the `Important Events` listed for a given date.\n",
    "1. Manipulate a dataset of stock information and find the 5 largest stock increases and declines for an inputted day.\n",
    "1. Visualize the top five increases and declines using subplots.\n",
    "\n",
    "The goal is to produce a function that will have an output like the one seen below. Some code has been provided to generate the report itself, your job is to write the functions to collect and organize the data, and we'll do the rest.\n",
    "\n",
    "-------\n",
    "\n",
    "<img src=\"./example.png\" width=\"800px\">"
   ]
  },
  {
   "cell_type": "code",
   "execution_count": 1,
   "metadata": {
    "ExecuteTime": {
     "end_time": "2021-06-03T20:59:40.618963Z",
     "start_time": "2021-06-03T20:59:39.214442Z"
    },
    "index": 2
   },
   "outputs": [],
   "source": [
    "import pandas as pd\n",
    "import requests\n",
    "from bs4 import BeautifulSoup\n",
    "import matplotlib.pyplot as plt\n",
    "from IPython.display import display, Markdown"
   ]
  },
  {
   "cell_type": "code",
   "execution_count": 2,
   "metadata": {
    "ExecuteTime": {
     "end_time": "2021-06-03T20:59:40.622345Z",
     "start_time": "2021-06-03T20:59:40.620066Z"
    },
    "index": 3
   },
   "outputs": [],
   "source": [
    "#==SOLUTION== \n",
    "import pandas as pd\n",
    "import requests\n",
    "from bs4 import BeautifulSoup\n",
    "import matplotlib.pyplot as plt\n",
    "from IPython.display import display, Markdown"
   ]
  },
  {
   "cell_type": "markdown",
   "metadata": {
    "index": 4
   },
   "source": [
    "## Task 1"
   ]
  },
  {
   "cell_type": "markdown",
   "metadata": {
    "index": 5
   },
   "source": [
    "In the cell below, define a function called `parse_date`.\n",
    "\n",
    "This function should \n",
    "- Receive a single argument `date` with a datatype of string.\n",
    "- The expected format of the string should be `month/day/year` where both month and day are integers.\n",
    "- Parse the date variable to seperate the month and day integers.\n",
    "- Map the month integer to the name of the month using the provided dictionary\n",
    "- Returns the month (string), the day (string), and the name of the month (string)\n",
    "\n",
    "An example output for this function would look as follows:\n",
    "\n",
    "```python\n",
    "parse_date('06/03/2015')\n",
    ">> ('06', '03', '2015' ,'June')\n",
    "```"
   ]
  },
  {
   "cell_type": "code",
   "execution_count": 3,
   "metadata": {
    "ExecuteTime": {
     "end_time": "2021-06-03T20:59:40.627913Z",
     "start_time": "2021-06-03T20:59:40.624248Z"
    },
    "index": 6
   },
   "outputs": [],
   "source": [
    "def parse_date():\n",
    "    month_map =  {1: 'January', 2: 'February', 3: 'March',\n",
    "                  4: 'April', 5: 'May', 6: 'June', 7: 'July',\n",
    "                  8: 'August', 9: 'September', 10:'October', \n",
    "                  11: 'Novembers', 12: 'December'}\n",
    "    \n",
    "    # Your code here"
   ]
  },
  {
   "cell_type": "code",
   "execution_count": 4,
   "metadata": {
    "ExecuteTime": {
     "end_time": "2021-06-03T20:59:40.661331Z",
     "start_time": "2021-06-03T20:59:40.629523Z"
    },
    "index": 7
   },
   "outputs": [],
   "source": [
    "#==SOLUTION== \n",
    "def parse_date(date):\n",
    "    \n",
    "    mapper = {1: 'January', 2: 'February', 3: 'March',\n",
    "              4: 'April', 5: 'May', 6: 'June', 7: 'July',\n",
    "              8: 'August', 9: 'September', 10:'October', \n",
    "              11: 'Novembers', 12: 'December'}\n",
    "    month, day, year = date.split('/')\n",
    "    return month.zfill(2), day.zfill(2), year, mapper[int(month)]"
   ]
  },
  {
   "cell_type": "markdown",
   "metadata": {
    "index": 8
   },
   "source": [
    "## Task 2\n",
    "\n",
    "In the cell below, define a function called `holidays_api` \n",
    "\n",
    "This function should do the following:\n",
    "\n",
    "- Receive a single argument called `year` with a datatype of string.\n",
    "- Connects to the [Public Holidays API](https://date.nager.at/Api) and returns the public holidays data for the inputted year.\n",
    "\n",
    "An example output of this function would look like this:\n",
    "\n",
    "```python\n",
    "holidays_api('2015')\n",
    ">> [{'date': '2015-01-01',\n",
    "  'localName': \"New Year's Day\",\n",
    "  'name': \"New Year's Day\",\n",
    "  'countryCode': 'US',\n",
    "  'fixed': False,\n",
    "  'global': True,\n",
    "  'counties': None,\n",
    "  'launchYear': None,\n",
    "  'type': 'Public'},\n",
    "```"
   ]
  },
  {
   "cell_type": "code",
   "execution_count": 5,
   "metadata": {
    "ExecuteTime": {
     "end_time": "2021-06-03T20:59:40.665358Z",
     "start_time": "2021-06-03T20:59:40.663115Z"
    },
    "index": 9
   },
   "outputs": [],
   "source": [
    "# Your code here"
   ]
  },
  {
   "cell_type": "code",
   "execution_count": 6,
   "metadata": {
    "ExecuteTime": {
     "end_time": "2021-06-03T20:59:40.669367Z",
     "start_time": "2021-06-03T20:59:40.666747Z"
    },
    "index": 10
   },
   "outputs": [],
   "source": [
    "#==SOLUTION== \n",
    "def holidays_api(year):\n",
    "    url = f'https://date.nager.at/Api/v2/PublicHolidays/{year}/US'\n",
    "    response = requests.get(url)\n",
    "    return response.json()"
   ]
  },
  {
   "cell_type": "markdown",
   "metadata": {
    "index": 11
   },
   "source": [
    "## Task 3\n",
    "\n",
    "In the cell below, define a function called `is_public_holiday` that receives four arguments\n",
    "1. month - integer\n",
    "2. day - integer\n",
    "4. year - integer\n",
    "3. holiday_data - list\n",
    "\n",
    "This function should:\n",
    "- Loop over the holiday_data list and check if the date is found within the data. If the date is not found, the function should return None. If a date is found, the function should return the name of the holiday.\n",
    "\n",
    "An example of this function's output looks like this:\n",
    "\n",
    "```python\n",
    "is_public_holiday('09', '07', '2015', holiday_data)\n",
    ">>> 'Labour Day'\n",
    "```"
   ]
  },
  {
   "cell_type": "code",
   "execution_count": 7,
   "metadata": {
    "ExecuteTime": {
     "end_time": "2021-06-03T20:59:40.672939Z",
     "start_time": "2021-06-03T20:59:40.670834Z"
    },
    "index": 12
   },
   "outputs": [],
   "source": [
    "# Your code here"
   ]
  },
  {
   "cell_type": "code",
   "execution_count": 8,
   "metadata": {
    "ExecuteTime": {
     "end_time": "2021-06-03T20:59:40.678349Z",
     "start_time": "2021-06-03T20:59:40.675545Z"
    },
    "index": 13
   },
   "outputs": [],
   "source": [
    "#==SOLUTION== \n",
    "def is_public_holiday(month, day, year, holiday_data):\n",
    "    date = f'{year}-{month}-{day}'\n",
    "    for holiday in holiday_data:\n",
    "        if holiday['date'] == date:\n",
    "            return holiday['name']"
   ]
  },
  {
   "cell_type": "markdown",
   "metadata": {
    "index": 14
   },
   "source": [
    "## Task 4\n",
    "\n",
    "In the cell below define a function called `get_historical_events` that scrapes the historical events for a given day.\n",
    "\n",
    "This function should receive 2 arguments:\n",
    "1. The name of a month\n",
    "2. The day of the month.\n",
    "\n",
    "The url format for this problem is as follows:\n",
    "\n",
    "`f'https://www.onthisday.com/day/{month_name}/{day}'`\n",
    "\n",
    "This function should return a list of strings for each historical event for the inputted date.\n",
    "\n",
    "The desired output looks like this \n",
    "\n",
    "```python\n",
    "get_historical_events('July', '07')\n",
    ">> ['1520 Battle of Otumba, Mexico: Hernán Cortés and the Tlaxcalans defeat a numerically superior Aztec force',\n",
    " '1937 Japanese and Chinese troops clash at the Marco Polo Bridge, beginning the Second Sino-Japanese War',\n",
    " '1947 Alleged and disputed Roswell UFO incident',\n",
    " \"2005 Coordinated terrorist bomb blasts strike London's public transport system during the morning rush hour killing 52 and injuring 700\",\n",
    " '2005 Influenced by Live 8, the G8 leaders pledge to double 2004 levels of aid to Africa from US$25 to US$50 billion by the year 2010',\n",
    " '1936 RCA shows 1st real TV program (dancing, film on locomotives, Bonwit Teller fashion show and monologue from Tobacco Road & comedy)',\n",
    " \"1990 First Three Tenors concert featuring Plácido Domingo, José Carreras and Luciano Pavarotti at Baths of Caracalla in Rome - recording of is world's best-selling classical record\",\n",
    " \"1990 Wimbledon Women's Tennis: Martina Navratilova wins her record 9th Wimbledon singles title beating American Zina Garrison 6-4, 6-1\",\n",
    " '1932 Author Damon Runyon (51) weds Patrice Amati del Grande',\n",
    " '1946 39th US President Jimmy Carter (21) weds Rosalynn Smith (18) in Plains, Georgia',\n",
    " '1970 Actress Shelley Duvall (21) weds Bernard Sampson',\n",
    " '1943 Heavyweight boxing champ Jack Dempsey (48) divorces broadway singer Hannah Williams (32) after 10 years of marriage',\n",
    " '1953 Actor José Ferrer divorces dancer and actress Phyllis Hill after 5 years of marriage',\n",
    " '1994 Actress Diane Lane files for divorce from Christopher Lambert']\n",
    "```"
   ]
  },
  {
   "cell_type": "code",
   "execution_count": 9,
   "metadata": {
    "ExecuteTime": {
     "end_time": "2021-06-03T20:59:40.682236Z",
     "start_time": "2021-06-03T20:59:40.680226Z"
    },
    "index": 15
   },
   "outputs": [],
   "source": [
    "# Your code here"
   ]
  },
  {
   "cell_type": "code",
   "execution_count": 10,
   "metadata": {
    "ExecuteTime": {
     "end_time": "2021-06-03T20:59:40.687045Z",
     "start_time": "2021-06-03T20:59:40.683620Z"
    },
    "index": 16
   },
   "outputs": [],
   "source": [
    "#==SOLUTION== \n",
    "def get_historical_events(month_name, day):    \n",
    "    url = f'https://www.onthisday.com/day/{month_name}/{day}'\n",
    "    response = requests.get(url)\n",
    "    html = response.text\n",
    "    soup = BeautifulSoup(html)\n",
    "    events = soup.find_all('li', {'class': 'event'})\n",
    "    event_details = [event.text for event in events]\n",
    "    return event_details"
   ]
  },
  {
   "cell_type": "markdown",
   "metadata": {
    "index": 17
   },
   "source": [
    "## Task 5"
   ]
  },
  {
   "cell_type": "markdown",
   "metadata": {
    "index": 18
   },
   "source": [
    "A `json` data file containing stock data is stored in the `data` folder of this repository with the filename `stock-data.json`.\n",
    "\n",
    "In the cell below\n",
    "- Open a connection to the stock data file using the python `open` function. \n",
    "- Load the contents of the file into the variable `data` using the `json` library. \n",
    "- Ensure the connection to the stock data file is closed. "
   ]
  },
  {
   "cell_type": "code",
   "execution_count": null,
   "metadata": {},
   "outputs": [],
   "source": [
    "# Your code here"
   ]
  },
  {
   "cell_type": "code",
   "execution_count": 85,
   "metadata": {},
   "outputs": [],
   "source": [
    "#==SOLUTION==\n",
    "import json\n",
    "\n",
    "# Open a connection to the stock data file\n",
    "# using the python `open` function\n",
    "file = open('data/stock-data.json', 'r')\n",
    "\n",
    "# Load the contents of the file into the variable\n",
    "# `data` using the json library\n",
    "data = json.load(file)\n",
    "\n",
    "# Ensure the connection\n",
    "# to the stock data file is closed\n",
    "file.close()"
   ]
  },
  {
   "cell_type": "markdown",
   "metadata": {
    "index": 21,
    "tags": []
   },
   "source": [
    "## Task 6\n",
    "\n",
    "The next three tasks will focus on pulling information out of the `data` variable. \n",
    "\n",
    "Let's first write a function that will find the stock data for every company that occurs on a specific date. \n",
    " \n",
    "\n",
    "#### `get_companies`\n",
    "\n",
    "This function has the following inputs:\n",
    "\n",
    "- month: String. \n",
    "- day:   String\n",
    "- year:  String.\n",
    "- data:  Dictionary. \n",
    "\n",
    "This function should return:\n",
    "\n",
    "- List. The stock information for every company for the inputted date. "
   ]
  },
  {
   "cell_type": "code",
   "execution_count": null,
   "metadata": {},
   "outputs": [],
   "source": [
    "def get_company_stocks(month, day, year, data):\n",
    "    # Create a string variable called `date`\n",
    "    # that has the following format:\n",
    "    # `year-month-day`\n",
    "    #===============\n",
    "    # YOUR CODE HERE\n",
    "    #===============\n",
    "    # Create an empty list\n",
    "    # called `found_stocks`\n",
    "    #===============\n",
    "    # YOUR CODE HERE\n",
    "    #===============\n",
    "    \n",
    "    # Loop over the company names in the data variable\n",
    "    #===============\n",
    "    # YOUR CODE HERE\n",
    "    #===============\n",
    "    \n",
    "        # Loop over the stock entries for the company\n",
    "        #===============\n",
    "        # YOUR CODE HERE\n",
    "        #===============\n",
    "            # Check if the date in the stock entry\n",
    "            # is equal to the `date` variable\n",
    "            #===============\n",
    "            # YOUR CODE HERE\n",
    "            #===============\n",
    "                # Add the name of the company\n",
    "                # to the stock entry\n",
    "                #===============\n",
    "                # YOUR CODE HERE\n",
    "                #===============\n",
    "                # Append the entry to the \n",
    "                # `found_stocks` list\n",
    "                #===============\n",
    "                # YOUR CODE HERE\n",
    "                #===============\n",
    "                \n",
    "    # Return the found stocks\n",
    "    #===============\n",
    "    # YOUR CODE HERE\n",
    "    #==============="
   ]
  },
  {
   "cell_type": "code",
   "execution_count": null,
   "metadata": {},
   "outputs": [],
   "source": [
    "#==SOLUTION==\n",
    "def get_company_stocks(month, day, year, data):\n",
    "    # Create a string variable called `date`\n",
    "    # that has the following format:\n",
    "    # `year-month-day`\n",
    "    date = f'{year}-{month}-{day}'\n",
    "    \n",
    "    # Create an empty list\n",
    "    # called `found_stocks`\n",
    "    found_stocks = []\n",
    "    \n",
    "    # Loop over the company names in the data variable\n",
    "    for company in data:\n",
    "        # Loop over the stock entries for the company\n",
    "        for entry in data[company]:\n",
    "            # Check if the date in the stock entry\n",
    "            # is equal to the `date` variable\n",
    "            if entry['date'] == date:\n",
    "                # Add the name of the company\n",
    "                # to the stock entry\n",
    "                entry['name'] = company\n",
    "                # Append the entry to the \n",
    "                # `found_stocks` list\n",
    "                found_stocks.append(entry)\n",
    "    \n",
    "    # Return the found stocks\n",
    "    return found_stocks"
   ]
  },
  {
   "cell_type": "markdown",
   "metadata": {},
   "source": [
    "## Task 7\n",
    "\n",
    "The stock data does not actually have information about price changes. It only has the opening and closing prices for each day.\n",
    "\n",
    "Let's define a function that will loop over stock entries and calculate the price change that took place on that day. \n",
    "\n",
    "#### `get_price_changes`\n",
    "\n",
    "This function has the following inputs:\n",
    "\n",
    "- found_stocks: List. The stock information for every company for a specific day. \n",
    "\n",
    "This function should return:\n",
    "\n",
    "- List. A list sorted in descending order of price changes (close-open)\n",
    "    - The list should contains tuples with the following format:\n",
    "    ```(Name of company, Price change)```"
   ]
  },
  {
   "cell_type": "code",
   "execution_count": null,
   "metadata": {},
   "outputs": [],
   "source": [
    "def get_price_changes(found_stocks):\n",
    "    # Create an empty list\n",
    "    # called `price_changes`\n",
    "    #===============\n",
    "    # YOUR CODE HERE\n",
    "    #===============\n",
    "    \n",
    "    # Loop over the entries in the\n",
    "    # `found_stocks` variable\n",
    "    #===============\n",
    "    # YOUR CODE HERE\n",
    "    #===============\n",
    "        # Calculate the price change for the entry\n",
    "        #===============\n",
    "        # YOUR CODE HERE\n",
    "        #===============\n",
    "        # Create a tuple variable with the \n",
    "        # format `(Company name, Price change)`\n",
    "        #===============\n",
    "        # YOUR CODE HERE\n",
    "        #===============\n",
    "        # Append the tuple to the\n",
    "        # `price_changes` list\n",
    "        #===============\n",
    "        # YOUR CODE HERE\n",
    "        #===============\n",
    "        \n",
    "    # Sort the `price_changes` list in descending order\n",
    "    #===============\n",
    "    # YOUR CODE HERE\n",
    "    #===============\n",
    "    # Return the sorted price changes\n",
    "    #===============\n",
    "    # YOUR CODE HERE\n",
    "    #==============="
   ]
  },
  {
   "cell_type": "code",
   "execution_count": null,
   "metadata": {},
   "outputs": [],
   "source": [
    "#==SOLUTION==       \n",
    "def get_price_changes(found_stocks):\n",
    "    # Create an empty list\n",
    "    # called `price_changes`\n",
    "    price_changes = []\n",
    "    \n",
    "    # Loop over the entries in the\n",
    "    # `found_stocks` variable\n",
    "    for entry in found_stocks:\n",
    "        # Calculate the price change for the entry\n",
    "        change = entry['close'] - entry['open']\n",
    "        # Create a tuple variable with the \n",
    "        # format `(Company name, Price change)`\n",
    "        obsv = (entry['name'], change)\n",
    "        # Append the tuple to the\n",
    "        # `price_changes` list\n",
    "        price_changes.append(obsv)\n",
    "        \n",
    "    # Sort the `price_changes` list in descending order\n",
    "    sorted_changes = sorted(price_changes, key=lambda x: x[1], reverse=True)\n",
    "    # Return the sorted price changes\n",
    "    return sorted_changes"
   ]
  },
  {
   "cell_type": "markdown",
   "metadata": {},
   "source": [
    "Ok, now let's define a function that will call the previous two functions, and then return information about the companies that saw the best stock increases and worst stock decreases on a given day. \n",
    "\n",
    "## Task 8\n",
    "\n",
    "#### `find_top_stock_changes`\n",
    "\n",
    "This function has the following inputs:\n",
    "\n",
    "- month: String. \n",
    "- day:   String\n",
    "- year:  String.\n",
    "- data:  Dictionary. \n",
    "\n",
    "This function should return four lists:\n",
    "1. A list of 5 stock names with the highest increases on the inputted day\n",
    "2. A list of 5 stock names with the highest declines on the inputted day\n",
    "3. A list of the 5 stock changes for top increases\n",
    "4. A list of the 5 stock changes for top declines.\n",
    "\n",
    "\n",
    "An example of this function's output looks like this:\n",
    "```python\n",
    "find_top_stock_changes('09', '08', '2015', data)\n",
    ">> (['REGN', 'PCLN', 'AZO', 'AMZN', 'EQIX'],\n",
    " ['PVH', 'RRC', 'MCK', 'COO', 'NFLX'],\n",
    " [27.879999999999995,\n",
    "  12.400000000000091,\n",
    "  9.860000000000014,\n",
    "  8.849999999999966,\n",
    "  8.059999999999945],\n",
    " [-0.7999999999999972,\n",
    "  -0.9300000000000068,\n",
    "  -0.960000000000008,\n",
    "  -3.890000000000015,\n",
    "  -7.1299999999999955])\n",
    "```"
   ]
  },
  {
   "cell_type": "code",
   "execution_count": null,
   "metadata": {},
   "outputs": [],
   "source": [
    "def find_top_stock_changes(month, day, year, data):\n",
    "    # Pass the inputs into the\n",
    "    # `get_company_stocks` function\n",
    "    #===============\n",
    "    # YOUR CODE HERE\n",
    "    #===============\n",
    "    \n",
    "    # Pass the output of the previous step\n",
    "    # into the `get_price_changes` function\n",
    "    #===============\n",
    "    # YOUR CODE HERE\n",
    "    #===============\n",
    "    \n",
    "    # Isolate the company names for the\n",
    "    # top five increases and top five decreases\n",
    "    # according to price change. Each should be their own list.\n",
    "    #===============\n",
    "    # YOUR CODE HERE\n",
    "    #===============\n",
    "    \n",
    "    # Isolate the top five price changes and top five price\n",
    "    # decreases. Each should be their own list. \n",
    "    #===============\n",
    "    # YOUR CODE HERE\n",
    "    #===============\n",
    "    \n",
    "    # Return\n",
    "    # 1. Names of companies with top five price increase\n",
    "    # 2. Names of companies with top five price decrease\n",
    "    # 3. Price changes that correspond to return item #1\n",
    "    # 4. Price changes that correspond to reture item #2\n",
    "    #===============\n",
    "    # YOUR CODE HERE\n",
    "    #==============="
   ]
  },
  {
   "cell_type": "code",
   "execution_count": null,
   "metadata": {},
   "outputs": [],
   "source": [
    "#==SOLUTION==\n",
    "def find_top_stock_changes(month, day, year, data):\n",
    "    # Pass the inputs into the\n",
    "    # `get_company_stocks` function\n",
    "    stocks = get_company_stocks(month, day, year, data)\n",
    "    \n",
    "    # Pass the output of the previous step\n",
    "    # into the `get_price_changes` function\n",
    "    price_changes = get_price_changes(stocks)\n",
    "    \n",
    "    # Isolate the company names for the\n",
    "    # top five increases and top five decreases\n",
    "    # according to price change. Each should be their own list.\n",
    "    top_five_names = [x[0] for x in price_changes[:5]]\n",
    "    low_five_names = [x[0] for x in price_changes[-5:]]\n",
    "    \n",
    "    # Isolate the top five price changes and top five price\n",
    "    # decreases. Each should be their own list. \n",
    "    top_five_changes = [x[1] for x in price_changes[:5]]\n",
    "    low_five_changes = [x[1] for x in price_changes[-5:]]\n",
    "    \n",
    "    # Return\n",
    "    # 1. Names of companies with top five price increase\n",
    "    # 2. Names of companies with top five price decrease\n",
    "    # 3. Price changes that correspond to return item #1\n",
    "    # 4. Price changes that correspond to reture item #2\n",
    "    return top_five_names, low_five_names, top_five_changes, low_five_changes"
   ]
  },
  {
   "cell_type": "code",
   "execution_count": 107,
   "metadata": {},
   "outputs": [
    {
     "data": {
      "text/plain": [
       "(['REGN', 'PCLN', 'AZO', 'AMZN', 'EQIX'],\n",
       " ['PVH', 'RRC', 'MCK', 'COO', 'NFLX'],\n",
       " [27.879999999999995,\n",
       "  12.400000000000091,\n",
       "  9.860000000000014,\n",
       "  8.849999999999966,\n",
       "  8.059999999999945],\n",
       " [-0.7999999999999972,\n",
       "  -0.9300000000000068,\n",
       "  -0.960000000000008,\n",
       "  -3.890000000000015,\n",
       "  -7.1299999999999955])"
      ]
     },
     "execution_count": 107,
     "metadata": {},
     "output_type": "execute_result"
    }
   ],
   "source": [
    "find_top_stock_changes('09', '08', '2015', data)"
   ]
  },
  {
   "cell_type": "markdown",
   "metadata": {
    "index": 24
   },
   "source": [
    "## Task 9\n",
    "\n",
    "In the cell below, define a function that receives 4 arguments\n",
    "1. increase_names - A list of 5 stock names with the highest increases \n",
    "2. decline_names - A list of 5 stock names with the highest declines\n",
    "3. increase_change - A list of the 5 stock changes for top increases\n",
    "4. decline_change - A list of the 5 stock changes for top declines.\n",
    "\n",
    "\n",
    "This function should:\n",
    "\n",
    "- Output two bar charts next to each other the show the increases and declines for the inputted stock changes.\n",
    "\n",
    "This function's output should look like this:\n",
    "\n",
    "![](plot_stock_info.png)"
   ]
  },
  {
   "cell_type": "code",
   "execution_count": 15,
   "metadata": {
    "ExecuteTime": {
     "end_time": "2021-06-03T20:59:41.333136Z",
     "start_time": "2021-06-03T20:59:41.331425Z"
    },
    "index": 25
   },
   "outputs": [],
   "source": [
    "# Your code here"
   ]
  },
  {
   "cell_type": "code",
   "execution_count": 93,
   "metadata": {
    "ExecuteTime": {
     "end_time": "2021-06-03T20:59:41.337134Z",
     "start_time": "2021-06-03T20:59:41.334199Z"
    },
    "index": 26
   },
   "outputs": [],
   "source": [
    "#==SOLUTION== \n",
    "def plot_stock_info(increase_names, decline_names, increase_change, decline_change):\n",
    "    fig, axes = plt.subplots(1,2, figsize=(15,6))\n",
    "    \n",
    "    axes[0].bar(increase_names, increase_change, color='green')\n",
    "    axes[1].bar(decline_names, decline_change, color='red')\n",
    "    \n",
    "    axes[0].set_title('Top 5 stock increase')\n",
    "    axes[1].set_title('Top 5 stock declines')\n",
    "    "
   ]
  },
  {
   "cell_type": "markdown",
   "metadata": {
    "ExecuteTime": {
     "end_time": "2021-06-03T20:46:55.312614Z",
     "start_time": "2021-06-03T20:46:55.309343Z"
    },
    "index": 27
   },
   "source": [
    "# Put it all together\n",
    "\n",
    "In the cell below, we provide some code for printing the report.\n",
    "\n",
    "Run this cell unchanged."
   ]
  },
  {
   "cell_type": "code",
   "execution_count": 99,
   "metadata": {
    "ExecuteTime": {
     "end_time": "2021-06-03T20:59:41.665750Z",
     "start_time": "2021-06-03T20:59:41.338252Z"
    },
    "code_folding": [
     11,
     20,
     27,
     32
    ],
    "index": 28
   },
   "outputs": [],
   "source": [
    "import json\n",
    "\n",
    "file = open('data/stock-data.json', 'r')\n",
    "data = json.load(file)\n",
    "file.close()\n",
    "\n",
    "def main(date, stock_data):\n",
    "    month, day, year, month_name = parse_date(date)\n",
    "    display(Markdown(\"# {}/{} Report\\n\\n\".format(month, day)))\n",
    "    holidays_data =  holidays_api(year)\n",
    "    holiday = is_public_holiday(month, day, year, holidays_data)\n",
    "    historical_events = get_historical_events(month_name, day)\n",
    "    increase_names, decrease_names, increase_changes, decrease_changes = find_top_stock_changes(month, day, \n",
    "                                                                                           year, data)\n",
    "    print_holiday(month, day, year, holiday)\n",
    "    print_historical_events(historical_events)\n",
    "    if increase_names and decrease_names:\n",
    "        plot_stock_info(increase_names, decrease_names, increase_changes, decrease_changes)\n",
    "    else:\n",
    "        display(Markdown(\"\\n\\n**No stock data was found for this day.**\"))\n",
    "\n",
    "\n",
    "def print_holiday(month, day, year, holiday):\n",
    "    template = ''\n",
    "    if holiday:\n",
    "        template += \"{}/{}/{} is **{}**!\\n\\n\".format(month, day, year, holiday)\n",
    "    else:\n",
    "        template += \"**{}/{} was not a public holiday in {}.**\".format(month, day, year)\n",
    "    markdown = Markdown(template)\n",
    "    display(markdown)\n",
    "        \n",
    "def print_historical_events(events):\n",
    "    \n",
    "    events_formatted = [f'**{event.split()[0]}** ' + ' '.join(event.split()[1:]) for event in events]\n",
    "    template = '### Historical Highlights'\n",
    "    for event in events_formatted:\n",
    "        template += '\\n\\n- ' + event\n",
    "\n",
    "    markdown = Markdown(template)\n",
    "    display(markdown)\n",
    "    \n"
   ]
  },
  {
   "cell_type": "code",
   "execution_count": 100,
   "metadata": {
    "ExecuteTime": {
     "end_time": "2021-06-03T20:59:41.987423Z",
     "start_time": "2021-06-03T20:59:41.667016Z"
    },
    "index": 29
   },
   "outputs": [],
   "source": [
    "#==SOLUTION== \n",
    "import json\n",
    "\n",
    "# Open a connection to the stock data file\n",
    "# using the python `open` function\n",
    "file = open('data/stock-data.json', 'r')\n",
    "\n",
    "# Load the contents of the file into the variable\n",
    "# `data` using the json library\n",
    "data = json.load(file)\n",
    "\n",
    "# Ensure the connection\n",
    "# to the stock data file is closed\n",
    "file.close()\n",
    "def main(date, stock_data):\n",
    "    month, day, year, month_name = parse_date(date)\n",
    "    display(Markdown(\"# {}/{} Report\\n\\n\".format(month, day)))\n",
    "    holidays_data =  holidays_api(year)\n",
    "    holiday = is_public_holiday(month, day, year, holidays_data)\n",
    "    historical_events = get_historical_events(month_name, day)\n",
    "    increase_names, decrease_names, increase_changes, decrease_changes = find_top_stock_changes(month, day, \n",
    "                                                                                           year, data)\n",
    "    print_holiday(month, day, year, holiday)\n",
    "    print_historical_events(historical_events)\n",
    "    if increase_names and decrease_names:\n",
    "        plot_stock_info(increase_names, decrease_names, increase_changes, decrease_changes)\n",
    "    else:\n",
    "        display(Markdown(\"\\n\\n**No stock data was found for this day.**\"))\n",
    "\n",
    "\n",
    "def print_holiday(month, day, year, holiday):\n",
    "    template = ''\n",
    "    if holiday:\n",
    "        template += \"{}/{}/{} is **{}**!\\n\\n\".format(month, day, year, holiday)\n",
    "    else:\n",
    "        template += \"**{}/{} was not a public holiday in {}.**\".format(month, day, year)\n",
    "    markdown = Markdown(template)\n",
    "    display(markdown)\n",
    "        \n",
    "def print_historical_events(events):\n",
    "    \n",
    "    events_formatted = [f'**{event.split()[0]}** ' + ' '.join(event.split()[1:]) for event in events]\n",
    "    template = '### Historical Highlights'\n",
    "    for event in events_formatted:\n",
    "        template += '\\n\\n- ' + event\n",
    "\n",
    "    markdown = Markdown(template)\n",
    "    display(markdown)\n",
    "    \n"
   ]
  },
  {
   "cell_type": "markdown",
   "metadata": {
    "index": 30
   },
   "source": [
    "# Run your code\n",
    "\n",
    "If each of your functions were named correctly, received the correct number of arguments and in the correct order, and output the correct data, the following function should generate the report!"
   ]
  },
  {
   "cell_type": "code",
   "execution_count": 101,
   "metadata": {
    "ExecuteTime": {
     "end_time": "2021-06-03T20:59:42.616607Z",
     "start_time": "2021-06-03T20:59:41.988742Z"
    },
    "index": 31
   },
   "outputs": [
    {
     "data": {
      "text/markdown": [
       "# 09/08 Report\n",
       "\n"
      ],
      "text/plain": [
       "<IPython.core.display.Markdown object>"
      ]
     },
     "metadata": {},
     "output_type": "display_data"
    },
    {
     "data": {
      "text/markdown": [
       "**09/08 was not a public holiday in 2015.**"
      ],
      "text/plain": [
       "<IPython.core.display.Markdown object>"
      ]
     },
     "metadata": {},
     "output_type": "display_data"
    },
    {
     "data": {
      "text/markdown": [
       "### Historical Highlights\n",
       "\n",
       "- **1380** Battle on Kulikovo: Moscow's great monarch Dimitri defeats the Mongols beginning the decline of the Tatars\n",
       "\n",
       "- **1504** Michelangelo's Statue of David is unveiled in Florence\n",
       "\n",
       "- **1522** Spanish navigator Juan de Elcano returns to Spain, completing 1st circumnavigation of the globe (expedition began under Ferdinand Magellan)\n",
       "\n",
       "- **1565** 1st permanent European settlement in the US founded at St. Augustine, Florida\n",
       "\n",
       "- **1664** Dutch surrender colony of New Netherlands (including New York) to 300 English soldiers\n",
       "\n",
       "- **1941** WWII: Siege of Leningrad by German, Finnish, and eventually Spanish troops begins; battle lasted over 28 months, as Russia repels the invasion; well over a million lives\n",
       "\n",
       "- **1970** Black September hijackings begin, three airliners hijacked and blown up by Popular Front for the Liberation of Palestine\n",
       "\n",
       "- **1986** \"The Oprah Winfrey Show\" is first broadcast nationally\n",
       "\n",
       "- **1960** Nationwide release (US) of Alfred Hitchcock's \"Psycho\" starring Anthony Perkins and Janet Leigh\n",
       "\n",
       "- **1965** Small ads in Daily Variety and Hollywood Reporter attract 437 young men interested in forming the world’s first manufactured boy band, \"The Monkees\" - 3 are chosen with Davey Jones already having been cast\n",
       "\n",
       "- **2001** Kylie Minogue releases her single \"I Just Can't Get You Out of My Head\", the biggest of her career\n",
       "\n",
       "- **1973** Hank Aaron sets record of most HRs in 1 league (709)\n",
       "\n",
       "- **1761** Marriage of George III of the United Kingdom to Charlotte of Mecklenburg-Strelitz (Queen Charlotte)\n",
       "\n",
       "- **1864** Business magnate John D. Rockefeller (25) weds abolitionist Laura Spelman (24)\n",
       "\n",
       "- **1897** Confederate General James Longstreet (76) weds Helen Dortch (34) at the governor's mansion in Atlanta, Georgia\n",
       "\n",
       "- **2009** 90s pop sensation singer Peter Andre (36) divorces glamour model Katie Price (31) due to unreasonable behaviour after 3 years of marriage"
      ],
      "text/plain": [
       "<IPython.core.display.Markdown object>"
      ]
     },
     "metadata": {},
     "output_type": "display_data"
    },
    {
     "data": {
      "image/png": "[encoded data removed]",
      "text/plain": [
       "<Figure size 1080x432 with 2 Axes>"
      ]
     },
     "metadata": {
      "needs_background": "light"
     },
     "output_type": "display_data"
    }
   ],
   "source": [
    "main('09/08/2015', data)"
   ]
  },
  {
   "cell_type": "code",
   "execution_count": 20,
   "metadata": {
    "ExecuteTime": {
     "end_time": "2021-06-03T20:59:43.034211Z",
     "start_time": "2021-06-03T20:59:42.617751Z"
    },
    "index": 32
   },
   "outputs": [
    {
     "data": {
      "text/markdown": [
       "# 09/08 Report\n",
       "\n"
      ],
      "text/plain": [
       "<IPython.core.display.Markdown object>"
      ]
     },
     "metadata": {},
     "output_type": "display_data"
    },
    {
     "data": {
      "text/markdown": [
       "**09/08 was not a public holiday in 2015.**"
      ],
      "text/plain": [
       "<IPython.core.display.Markdown object>"
      ]
     },
     "metadata": {},
     "output_type": "display_data"
    },
    {
     "data": {
      "text/markdown": [
       "### Historical Highlights\n",
       "\n",
       "- **1380** Battle on Kulikovo: Moscow's great monarch Dimitri defeats the Mongols beginning the decline of the Tatars\n",
       "\n",
       "- **1504** Michelangelo's Statue of David is unveiled in Florence\n",
       "\n",
       "- **1522** Spanish navigator Juan de Elcano returns to Spain, completing 1st circumnavigation of the globe (expedition began under Ferdinand Magellan)\n",
       "\n",
       "- **1565** 1st permanent European settlement in the US founded at St. Augustine, Florida\n",
       "\n",
       "- **1664** Dutch surrender colony of New Netherlands (including New York) to 300 English soldiers\n",
       "\n",
       "- **1965** A small ad in New York’s Daily Variety attracts 437 young men interested in forming the world’s first manufactured boy band, \"The Monkees\"\n",
       "\n",
       "- **1970** Black September hijackings begin, three airliners hijacked and blown up by Popular Front for the Liberation of Palestine\n",
       "\n",
       "- **1986** \"The Oprah Winfrey Show\" is first broadcast nationally\n",
       "\n",
       "- **1960** Nationwide release (US) of Alfred Hitchcock's \"Psycho\" starring Anthony Perkins and Janet Leigh\n",
       "\n",
       "- **2001** Kylie Minogue releases her single \"I Just Can't Get You Out of My Head\", the biggest of her career\n",
       "\n",
       "- **1973** Hank Aaron sets record of most HRs in 1 league (709)\n",
       "\n",
       "- **1761** Marriage of George III of the United Kingdom to Charlotte of Mecklenburg-Strelitz (Queen Charlotte).\n",
       "\n",
       "- **1864** Business magnate John D. Rockefeller (25) weds abolitionist Laura Spelman (24)\n",
       "\n",
       "- **1897** Confederate General James Longstreet (76) weds Helen Dortch (34) at the governor's mansion in Atlanta, Georgia\n",
       "\n",
       "- **2009** 90s pop sensation singer Peter Andre (36) divorces glamour model Katie Price (31) due to unreasonable behaviour after 3 years of marriage"
      ],
      "text/plain": [
       "<IPython.core.display.Markdown object>"
      ]
     },
     "metadata": {},
     "output_type": "display_data"
    },
    {
     "data": {
      "image/png": "[encoded data removed]",
      "text/plain": [
       "<Figure size 1080x432 with 2 Axes>"
      ]
     },
     "metadata": {
      "needs_background": "light"
     },
     "output_type": "display_data"
    }
   ],
   "source": [
    "#==SOLUTION== \n",
    "main('09/08/2015', data)"
   ]
  }
 ],
 "metadata": {
  "kernelspec": {
   "display_name": "Python 3",
   "language": "python",
   "name": "python3"
  },
  "language_info": {
   "codemirror_mode": {
    "name": "ipython",
    "version": 3
   },
   "file_extension": ".py",
   "mimetype": "text/x-python",
   "name": "python",
   "nbconvert_exporter": "python",
   "pygments_lexer": "ipython3",
   "version": "3.8.8"
  },
  "toc": {
   "base_numbering": 1,
   "nav_menu": {},
   "number_sections": false,
   "sideBar": true,
   "skip_h1_title": false,
   "title_cell": "Table of Contents",
   "title_sidebar": "Contents",
   "toc_cell": false,
   "toc_position": {},
   "toc_section_display": true,
   "toc_window_display": false
  }
 },
 "nbformat": 4,
 "nbformat_minor": 4
}
